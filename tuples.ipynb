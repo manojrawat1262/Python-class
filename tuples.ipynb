{
 "cells": [
  {
   "cell_type": "code",
   "execution_count": 2,
   "id": "7c95361c",
   "metadata": {},
   "outputs": [
    {
     "name": "stdout",
     "output_type": "stream",
     "text": [
      "<class 'tuple'>\n"
     ]
    }
   ],
   "source": [
    "#tuple inside tuple\n",
    "a=((1,2,3),\n",
    "    (4,5,6),\n",
    "    (7,8,9))\n",
    "print(type(a))\n"
   ]
  },
  {
   "cell_type": "code",
   "execution_count": 3,
   "id": "c5c52ff3",
   "metadata": {},
   "outputs": [
    {
     "name": "stdout",
     "output_type": "stream",
     "text": [
      "('ram', 34, 'kathmandu')\n"
     ]
    }
   ],
   "source": [
    "a=(('ram',34,'kathmandu'),('shyam',45,'patan'))\n",
    "for i in a:\n",
    "    if 'ram' in i:\n",
    "        \n",
    "print(i)"
   ]
  },
  {
   "cell_type": "code",
   "execution_count": 6,
   "id": "3ce19849",
   "metadata": {},
   "outputs": [
    {
     "name": "stdout",
     "output_type": "stream",
     "text": [
      "enter n=2\n",
      "enter the name=manoj\n",
      "enter the age=20\n",
      "enter the add=kathmandu\n",
      "enter the name=hari\n",
      "enter the age=29\n",
      "enter the add=patan\n",
      "(('manoj', '20', 'kathmandu'), ('hari', '29', 'patan'))\n"
     ]
    }
   ],
   "source": [
    "info=tuple()\n",
    "n=int(input(\"enter n=\"))\n",
    "for i in range(n):\n",
    "    name=input(\"enter the name=\")\n",
    "    age=input(\"enter the age=\")\n",
    "    add=input(\"enter the add=\")\n",
    "    info=info+((name,age,add),)\n",
    "print(info)\n",
    "    "
   ]
  },
  {
   "cell_type": "code",
   "execution_count": 7,
   "id": "40090359",
   "metadata": {},
   "outputs": [
    {
     "name": "stdout",
     "output_type": "stream",
     "text": [
      "[['ram', 34, 'kathmandu'], ['shyam', 40, 'patan']]\n"
     ]
    }
   ],
   "source": [
    "b=list()\n",
    "a=(('ram',34,'kathmandu'),('shyam',40,'patan'))\n",
    "for i in a:\n",
    "    b.append(list(i))\n",
    "print(b)"
   ]
  },
  {
   "cell_type": "code",
   "execution_count": null,
   "id": "d0d149a1",
   "metadata": {},
   "outputs": [],
   "source": []
  },
  {
   "cell_type": "code",
   "execution_count": null,
   "id": "2e0f49d5",
   "metadata": {},
   "outputs": [],
   "source": []
  }
 ],
 "metadata": {
  "kernelspec": {
   "display_name": "Python 3 (ipykernel)",
   "language": "python",
   "name": "python3"
  },
  "language_info": {
   "codemirror_mode": {
    "name": "ipython",
    "version": 3
   },
   "file_extension": ".py",
   "mimetype": "text/x-python",
   "name": "python",
   "nbconvert_exporter": "python",
   "pygments_lexer": "ipython3",
   "version": "3.9.7"
  }
 },
 "nbformat": 4,
 "nbformat_minor": 5
}
