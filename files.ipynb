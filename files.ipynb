{
 "cells": [
  {
   "cell_type": "code",
   "execution_count": null,
   "id": "28f40578",
   "metadata": {},
   "outputs": [],
   "source": [
    "#read->r\n",
    "#write->w\n",
    "#append->a\n",
    "#create->x"
   ]
  },
  {
   "cell_type": "code",
   "execution_count": 16,
   "id": "55b85c52",
   "metadata": {},
   "outputs": [
    {
     "name": "stdout",
     "output_type": "stream",
     "text": [
      "the file is already there\n"
     ]
    }
   ],
   "source": [
    "try:\n",
    "    b=open('data.txt','x')\n",
    "except:\n",
    "    print('the file is already there')"
   ]
  },
  {
   "cell_type": "code",
   "execution_count": 19,
   "id": "981d59b0",
   "metadata": {},
   "outputs": [
    {
     "name": "stdout",
     "output_type": "stream",
     "text": [
      "hello world\n",
      "hello world\n",
      "hello world\n",
      "hello world\n",
      "hello world\n"
     ]
    }
   ],
   "source": [
    "with open('data.txt','r') as file:\n",
    "        print(file.read())"
   ]
  },
  {
   "cell_type": "code",
   "execution_count": null,
   "id": "06607e14",
   "metadata": {},
   "outputs": [],
   "source": [
    "#read\n",
    "#readline\n",
    "file=open('data.txt','r')\n",
    "n=int(input('enter n=')\n",
    "for i in range(1.n+1)\n",
    "    if==n:\n",
    "        print(file.readline())\n",
    "    file"
   ]
  },
  {
   "cell_type": "code",
   "execution_count": 21,
   "id": "40277f0f",
   "metadata": {},
   "outputs": [],
   "source": [
    "#write\n",
    "#append\n",
    "with open('data.txt','a') as file:\n",
    "    file.write('\\n hello world')\n",
    "    "
   ]
  },
  {
   "cell_type": "code",
   "execution_count": null,
   "id": "567e908c",
   "metadata": {},
   "outputs": [],
   "source": [
    "s=str\n",
    "n=int(input('enter n='))\n",
    "for i in range(n):\n",
    "    product=input('enter the product name=')\n",
    "    price= int(input('enter the price='))\n",
    "    quantity= int(input('enter the quantity='))\n",
    "    total= price*quantity\n",
    "    s= s+f'{product}{price}{quanaity}{total}\\n'\n",
    "print(s)\n",
    "\n",
    "with open('bill.txt','w') as file:\n",
    "    file.write(s)\n",
    "    "
   ]
  },
  {
   "cell_type": "code",
   "execution_count": null,
   "id": "bd3a6de5",
   "metadata": {},
   "outputs": [],
   "source": [
    "file in read mode can not write and append\n",
    "file in create mode can not write and append\n"
   ]
  },
  {
   "cell_type": "code",
   "execution_count": null,
   "id": "67b07c08",
   "metadata": {},
   "outputs": [],
   "source": []
  }
 ],
 "metadata": {
  "kernelspec": {
   "display_name": "Python 3 (ipykernel)",
   "language": "python",
   "name": "python3"
  },
  "language_info": {
   "codemirror_mode": {
    "name": "ipython",
    "version": 3
   },
   "file_extension": ".py",
   "mimetype": "text/x-python",
   "name": "python",
   "nbconvert_exporter": "python",
   "pygments_lexer": "ipython3",
   "version": "3.9.7"
  }
 },
 "nbformat": 4,
 "nbformat_minor": 5
}
